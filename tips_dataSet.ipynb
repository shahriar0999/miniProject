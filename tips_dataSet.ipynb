{
 "cells": [
  {
   "cell_type": "code",
   "execution_count": 9,
   "metadata": {},
   "outputs": [
    {
     "data": {
      "text/plain": [
       "[['16.99', '1.01', 'Female', 'No', 'Sun', 'Dinner', '2'],\n",
       " ['10.34', '1.66', 'Male', 'No', 'Sun', 'Dinner', '3'],\n",
       " ['21.01', '3.5', 'Male', 'No', 'Sun', 'Dinner', '3'],\n",
       " ['23.68', '3.31', 'Male', 'No', 'Sun', 'Dinner', '2']]"
      ]
     },
     "execution_count": 9,
     "metadata": {},
     "output_type": "execute_result"
    }
   ],
   "source": [
    "from csv import reader\n",
    "opened_file = open('tips.csv')\n",
    "read_file = reader(opened_file)\n",
    "tips_list = list(read_file)\n",
    "tips_list = tips_list[1:]\n",
    "tips_list[:4]"
   ]
  },
  {
   "cell_type": "code",
   "execution_count": 10,
   "metadata": {},
   "outputs": [],
   "source": [
    "for row in tips_list:\n",
    "  total_bill = int(float(row[0]))\n",
    "  row[0] = total_bill\n",
    "\n",
    "  tip = int(float(row[1]))\n",
    "  row[1] = tip"
   ]
  },
  {
   "cell_type": "code",
   "execution_count": 11,
   "metadata": {},
   "outputs": [
    {
     "data": {
      "text/plain": [
       "[[16, 1, 'Female', 'No', 'Sun', 'Dinner', '2'],\n",
       " [10, 1, 'Male', 'No', 'Sun', 'Dinner', '3'],\n",
       " [21, 3, 'Male', 'No', 'Sun', 'Dinner', '3'],\n",
       " [23, 3, 'Male', 'No', 'Sun', 'Dinner', '2'],\n",
       " [24, 3, 'Female', 'No', 'Sun', 'Dinner', '4']]"
      ]
     },
     "execution_count": 11,
     "metadata": {},
     "output_type": "execute_result"
    }
   ],
   "source": [
    "tips_list[:5]"
   ]
  },
  {
   "cell_type": "code",
   "execution_count": 12,
   "metadata": {},
   "outputs": [
    {
     "name": "stdout",
     "output_type": "stream",
     "text": [
      "{'Sun': 76, 'Sat': 87, 'Thur': 62, 'Fri': 19}\n",
      "{'Dinner': 176, 'Lunch': 68}\n",
      "{'No': 151, 'Yes': 93}\n"
     ]
    }
   ],
   "source": [
    "def demo_freq(index):\n",
    "  data_freq = {}\n",
    "  for row in tips_list:\n",
    "    freq = row[index]\n",
    "    if freq in data_freq:\n",
    "      data_freq[freq] += 1\n",
    "    else:\n",
    "      data_freq[freq] = 1\n",
    "  return data_freq\n",
    "\n",
    "day_freq = demo_freq( index = 4 )\n",
    "print(day_freq)\n",
    "sex_freq = demo_freq(index=5)\n",
    "print(sex_freq)\n",
    "smoker_freq = demo_freq(index=3)\n",
    "print(smoker_freq)"
   ]
  },
  {
   "cell_type": "code",
   "execution_count": 13,
   "metadata": {},
   "outputs": [
    {
     "name": "stdout",
     "output_type": "stream",
     "text": [
      "661\n",
      "4714\n"
     ]
    }
   ],
   "source": [
    "def demo_cal(index):\n",
    "  total_bill = 0\n",
    "  for row in tips_list:\n",
    "    bill = row[index]\n",
    "    total_bill += bill\n",
    "  return total_bill\n",
    "\n",
    "total_tip = demo_cal(index= 1)\n",
    "print(total_tip)\n",
    "total_bill_payment = demo_cal(index=0)\n",
    "print(total_bill_payment)"
   ]
  },
  {
   "cell_type": "code",
   "execution_count": 15,
   "metadata": {},
   "outputs": [
    {
     "data": {
      "text/plain": [
       "4714"
      ]
     },
     "execution_count": 15,
     "metadata": {},
     "output_type": "execute_result"
    }
   ],
   "source": [
    "total_bill = 0\n",
    "for row in tips_list:\n",
    "  bill = row[0]\n",
    "  total_bill += bill\n",
    "total_bill"
   ]
  },
  {
   "cell_type": "code",
   "execution_count": 16,
   "metadata": {},
   "outputs": [
    {
     "data": {
      "text/plain": [
       "19.31967213114754"
      ]
     },
     "execution_count": 16,
     "metadata": {},
     "output_type": "execute_result"
    }
   ],
   "source": [
    "## measure total bill along with average total bill\n",
    "\n",
    "totals_bill = []\n",
    "for row in tips_list:\n",
    "  bill = row[0]\n",
    "  totals_bill.append(bill)\n",
    "total_t = sum(totals_bill)\n",
    "av_bill = total_t / len(totals_bill)\n",
    "av_bill"
   ]
  }
 ],
 "metadata": {
  "kernelspec": {
   "display_name": "Python 3.10.5 64-bit",
   "language": "python",
   "name": "python3"
  },
  "language_info": {
   "codemirror_mode": {
    "name": "ipython",
    "version": 3
   },
   "file_extension": ".py",
   "mimetype": "text/x-python",
   "name": "python",
   "nbconvert_exporter": "python",
   "pygments_lexer": "ipython3",
   "version": "3.10.5"
  },
  "orig_nbformat": 4,
  "vscode": {
   "interpreter": {
    "hash": "b0b64a2f016ee3e5b88c3bf47f62c5e4c5436c8332e2363e4ba0b748169b3ebb"
   }
  }
 },
 "nbformat": 4,
 "nbformat_minor": 2
}
